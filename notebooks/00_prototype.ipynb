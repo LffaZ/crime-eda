{
  "nbformat": 4,
  "nbformat_minor": 0,
  "metadata": {
    "colab": {
      "provenance": [],
      "collapsed_sections": [
        "is7hQRrO1e5A",
        "LDdmmt7OFMr2",
        "4lP2Qo9zF0rK",
        "uCZdy3cgGZXO",
        "QtWFzxGnH8h5"
      ]
    },
    "kernelspec": {
      "name": "python3",
      "display_name": "Python 3"
    },
    "language_info": {
      "name": "python"
    }
  },
  "cells": [
    {
      "cell_type": "code",
      "source": [
        "import pandas as pd\n",
        "import numpy as np\n",
        "import matplotlib.pyplot as plt\n",
        "import seaborn as sns\n",
        "from scipy import stats\n",
        "import geopandas as gpd\n",
        "from shapely.geometry import Point\n",
        "\n",
        "pd.set_option('display.max_columns', None)"
      ],
      "metadata": {
        "id": "31LtK7NX0mjE"
      },
      "execution_count": null,
      "outputs": []
    },
    {
      "cell_type": "markdown",
      "source": [
        "## Data Acquisition"
      ],
      "metadata": {
        "id": "R8xpH3w50gch"
      }
    },
    {
      "cell_type": "code",
      "execution_count": null,
      "metadata": {
        "id": "eG8qT5u6ep_K"
      },
      "outputs": [],
      "source": [
        "data = \"Crime_Data_from_2020_to_Present_20251006.csv\"\n",
        "districts = gpd.read_file(\"LA_City_Council_Districts_(Adopted_2021).geojson\")\n",
        "df = pd.read_csv(data, sep=',', encoding='latin-1')\n",
        "df.head(2)"
      ]
    },
    {
      "cell_type": "markdown",
      "source": [
        "## Data Wrangling"
      ],
      "metadata": {
        "id": "KJ-vjlHf0tYT"
      }
    },
    {
      "cell_type": "markdown",
      "source": [
        "### Deduplikasi"
      ],
      "metadata": {
        "id": "s3J3TNRj1Nan"
      }
    },
    {
      "cell_type": "code",
      "source": [
        "print(\"\\n Jumlah nilai hilang per kolom:\")\n",
        "print(df.shape)\n",
        "print(df.isna().sum()[lambda x: x > 0])"
      ],
      "metadata": {
        "id": "Zty_uQoT1S4w"
      },
      "execution_count": null,
      "outputs": []
    },
    {
      "cell_type": "code",
      "source": [
        "df[['Mocodes', 'Vict Sex', 'Vict Descent', 'Premis Cd',\n",
        "    'Premis Desc', 'Weapon Used Cd', 'Weapon Desc', 'Status',\n",
        "    'Crm Cd 1', 'Crm Cd 2', 'Crm Cd 3', 'Crm Cd 4', 'Cross Street', 'DISTRICT']].nunique()"
      ],
      "metadata": {
        "id": "wI4MbP251c0f"
      },
      "execution_count": null,
      "outputs": []
    },
    {
      "cell_type": "markdown",
      "source": [
        "### Merging"
      ],
      "metadata": {
        "id": "R5k0fpUW0_25"
      }
    },
    {
      "cell_type": "code",
      "source": [
        "df['geometry'] = df.apply(lambda row: Point(row['LON'], row['LAT']), axis=1)\n",
        "dist_gdf = gpd.GeoDataFrame(df, geometry='geometry', crs=districts.crs)\n",
        "joined = gpd.sjoin(dist_gdf, districts[['District', 'geometry']], how='left', predicate='within')\n",
        "\n",
        "df['DISTRICT'] = joined['District']\n",
        "df = df.drop(columns='geometry')"
      ],
      "metadata": {
        "id": "L8WLA4-o085Z"
      },
      "execution_count": null,
      "outputs": []
    },
    {
      "cell_type": "markdown",
      "source": [
        "### Operasi aritmatika dengan NaN"
      ],
      "metadata": {
        "id": "VroBs1wJQdzF"
      }
    },
    {
      "cell_type": "code",
      "source": [
        "dfvict = df.copy()\n",
        "dfvict['VictAge_x_freq'] = df['Vict Age'] * (df['DISTRICT'] / df['DISTRICT'].max())"
      ],
      "metadata": {
        "id": "Ga98WFJ7Qe2h"
      },
      "execution_count": null,
      "outputs": []
    },
    {
      "cell_type": "markdown",
      "source": [
        "Operasi umur korban dikali besar distrik untuk melihat di daerah mana korban yang lebih tua atau muda lebih banyak. Karena kolom DISTRICT mengandung nilai NaN, hasil perkalian pada baris-baris tersebut juga akan menghasilkan NaN. Sehingga nilai NaN tersebut harus diatasi terlebih dahulu."
      ],
      "metadata": {
        "id": "zAdMFAUpR7EC"
      }
    },
    {
      "cell_type": "markdown",
      "source": [
        "### Penanganan nilai hilang"
      ],
      "metadata": {
        "id": "SHAx5e6P1PDG"
      }
    },
    {
      "cell_type": "markdown",
      "source": [
        "#### District & Cross Street"
      ],
      "metadata": {
        "id": "is7hQRrO1e5A"
      }
    },
    {
      "cell_type": "code",
      "source": [
        "print(\"Baris dengan DISTRICT kosong:\")\n",
        "df[df['DISTRICT'].isna()][['LOCATION', 'LAT', 'LON', 'DISTRICT']].head(3)"
      ],
      "metadata": {
        "id": "aKOwZ8IM1iG2"
      },
      "execution_count": null,
      "outputs": []
    },
    {
      "cell_type": "markdown",
      "source": [
        "Setelah dilakukan pemeriksaan, diketahui bahwa laporan-laporan kejahatan dengan nilai NaN pada kolom **District** terjadi di luar wilayah administratif Kota Los Angeles. Oleh karena itu, data dengan nilai NaN pada kolom tersebut dihapus agar analisis difokuskan pada kejadian yang benar-benar terjadi di dalam wilayah Kota LA.\n",
        "\n",
        "Sementara itu, kolom **Cross Street** memiliki jumlah data kosong (missing values) yang terlalu besar dibandingkan keseluruhan data. Karena minimnya informasi yang dapat diperoleh dari kolom ini, serta potensi rendahnya kontribusi terhadap analisis, maka kolom tersebut dihapus untuk menyederhanakan dataset."
      ],
      "metadata": {
        "id": "EwBUzsb21l5I"
      }
    },
    {
      "cell_type": "code",
      "source": [
        "before = len(df)\n",
        "print(f\"\\n Jumlah baris sebelum: {before}\")\n",
        "\n",
        "df = df.dropna(subset=['DISTRICT'])\n",
        "\n",
        "print(f\" Jumlah baris sesudah: {len(df)}\")\n",
        "print(f\" Baris dihapus (karena DISTRICT NaN): {before - len(df)}\")"
      ],
      "metadata": {
        "id": "cKS-dBGT2FPX"
      },
      "execution_count": null,
      "outputs": []
    },
    {
      "cell_type": "markdown",
      "source": [
        "#### Weapon Used CD & Desc"
      ],
      "metadata": {
        "id": "V5G_sZ7X2Vra"
      }
    },
    {
      "cell_type": "code",
      "source": [
        "print(f'Jumlah senjata: {len(df['Weapon Desc'].unique())}')\n",
        "print(f'Nilai unik senjata: {df['Weapon Desc'].unique()}')"
      ],
      "metadata": {
        "id": "3XPVMWpGEw2z"
      },
      "execution_count": null,
      "outputs": []
    },
    {
      "cell_type": "code",
      "source": [
        "df[df['Weapon Used Cd'].isna()][['Crm Cd Desc']].drop_duplicates(subset='Crm Cd Desc').head()"
      ],
      "metadata": {
        "id": "aRK7KxPi2bGM"
      },
      "execution_count": null,
      "outputs": []
    },
    {
      "cell_type": "markdown",
      "source": [
        "Berdasarkan deskripsi kasus kriminal dengan nilai Weapon yang bernilai NaN, dapat diasumsikan bahwa tindak kejahatan tersebut dilakukan tanpa menggunakan senjata. Oleh karena itu, nilai pada kolom Weapon Description dapat diisi dengan kategori ‘UNKNOWN WEAPON/OTHER WEAPON’"
      ],
      "metadata": {
        "id": "_SzlCqdvFg-q"
      }
    },
    {
      "cell_type": "code",
      "source": [
        "df['Weapon Desc'] = df['Weapon Desc'].fillna('UNKNOWN WEAPON/OTHER WEAPON')\n",
        "\n",
        "print(df['Weapon Desc'].value_counts().head())\n",
        "print(\"\\nJumlah missing setelah imputasi:\", df['Weapon Desc'].isna().sum())"
      ],
      "metadata": {
        "id": "V8A4WAnTE0h0"
      },
      "execution_count": null,
      "outputs": []
    },
    {
      "cell_type": "markdown",
      "source": [
        "#### Status"
      ],
      "metadata": {
        "id": "LDdmmt7OFMr2"
      }
    },
    {
      "cell_type": "code",
      "source": [
        "print(\"\\nJumlah missing status desc:\", df['Status Desc'].isna().sum())"
      ],
      "metadata": {
        "id": "3vLOGL1iFkO1"
      },
      "execution_count": null,
      "outputs": []
    },
    {
      "cell_type": "markdown",
      "source": [
        "Karena kolom Status merupakan representasi kode dari kolom Status Description, dan seluruh data pada Status Description telah terisi lengkap tanpa nilai yang hilang, maka kolom Status dapat dihapus dari dataset"
      ],
      "metadata": {
        "id": "0h7egRYCFd0y"
      }
    },
    {
      "cell_type": "markdown",
      "source": [
        "#### Crm Cd 1 - 4"
      ],
      "metadata": {
        "id": "4lP2Qo9zF0rK"
      }
    },
    {
      "cell_type": "code",
      "source": [
        "df[df['Crm Cd 1'].isna()]"
      ],
      "metadata": {
        "id": "zPuy3InmF6y8"
      },
      "execution_count": null,
      "outputs": []
    },
    {
      "cell_type": "markdown",
      "source": [
        "Karena tidak terdapat informasi yang menjelaskan makna dari setiap nilai pada kolom Crm Cd 1 hingga Crm Cd 4, maka kolom-kolom tersebut dihapus dari dataset."
      ],
      "metadata": {
        "id": "Efn6anA5GL5y"
      }
    },
    {
      "cell_type": "markdown",
      "source": [
        "#### Premis Cd & Desc"
      ],
      "metadata": {
        "id": "uCZdy3cgGZXO"
      }
    },
    {
      "cell_type": "code",
      "source": [
        "print(f'Jumlah Missing Premis Cd: {df['Premis Cd'].isna().sum()}')\n",
        "print(f'Jumlah Missing Premis Desc: {df['Premis Desc'].isna().sum()}')\n",
        "\n",
        "print(f'\\nJumlah Nilai Unik Premis Cd: {df['Premis Cd'].nunique()}')\n",
        "print(f'Jumlah Nilai Unik Premis Desc: {df['Premis Desc'].nunique()}')"
      ],
      "metadata": {
        "id": "SL9xIGo1Gqgp"
      },
      "execution_count": null,
      "outputs": []
    },
    {
      "cell_type": "code",
      "source": [
        "df.groupby('Premis Cd')['Premis Desc'].nunique().sort_values(ascending=False)"
      ],
      "metadata": {
        "id": "JigTiTorG73A"
      },
      "execution_count": null,
      "outputs": []
    },
    {
      "cell_type": "markdown",
      "source": [
        "Hal ini menunjukkan bahwa terdapat beberapa deskripsi Premis yang tidak lengkap, yaitu pada data dengan Premis Cd yang nilai Premis Desc-nya kosong. Setelah dilakukan penelusuran melalui internet, nilai Premis Cd yang hilang tersebut tidak ditemukan padanan deskripsinya. Karena data tersebut tidak memberikan informasi yang bermakna, maka baris tersebut dihapus dari dataset."
      ],
      "metadata": {
        "id": "F5xueuwPHI_9"
      }
    },
    {
      "cell_type": "code",
      "source": [
        "before = len(df)\n",
        "df = df[~((df['Premis Cd'].notna()) & (df['Premis Desc'].isna()))]\n",
        "after = len(df)\n",
        "\n",
        "print(f\"\\n Jumlah baris sebelum: {before}\")\n",
        "print(f\" Jumlah baris sesudah: {after}\")\n",
        "print(f\" Baris dihapus: {before-after}\")"
      ],
      "metadata": {
        "id": "WRprAcduHNQE"
      },
      "execution_count": null,
      "outputs": []
    },
    {
      "cell_type": "code",
      "source": [
        "print(f'Jumlah Missing Premis Desc: {df['Premis Desc'].isna().sum()}')"
      ],
      "metadata": {
        "id": "2eo9vdC8HnNu"
      },
      "execution_count": null,
      "outputs": []
    },
    {
      "cell_type": "markdown",
      "source": [
        "Karena data tersebut tidak tersedia, dilakukan proses imputasi berbasis model dengan memanfaatkan variabel lain sebagai fitur untuk mengisi nilai yang hilang pada kolom Premis Desc."
      ],
      "metadata": {
        "id": "XSgQOaz8HxsH"
      }
    },
    {
      "cell_type": "code",
      "source": [
        "df[df['Premis Desc'].isna()].head(3)"
      ],
      "metadata": {
        "id": "NzyQRvX9H42P"
      },
      "execution_count": null,
      "outputs": []
    },
    {
      "cell_type": "markdown",
      "source": [
        "#### Vict Sex & Descent"
      ],
      "metadata": {
        "id": "QtWFzxGnH8h5"
      }
    },
    {
      "cell_type": "code",
      "source": [
        "# Vict Descent\n",
        "print(f'Nilai unik ras korban: {df['Vict Descent'].unique()}')\n",
        "print(f'Jumlah ras -: {len(df[df['Vict Descent'] == '-'])}')\n",
        "print(f'Jumlah ras Unknown: {len(df[df['Vict Descent'] == 'X'])}')\n",
        "\n",
        "# Vict Sex\n",
        "print(f'\\nNilai unik gender korban: {df['Vict Sex'].unique()}')"
      ],
      "metadata": {
        "id": "B75PIhg-IDPt"
      },
      "execution_count": null,
      "outputs": []
    },
    {
      "cell_type": "markdown",
      "source": [
        "Karena data kriminalitas tersebut telah ditelusuri namun tidak ditemukan informasi pendukungnya, maka nilai pada kolom Vict Sex dan Vict Descent yang bernilai ‘-’ diubah menjadi ‘X’."
      ],
      "metadata": {
        "id": "ujEdcekPIUvD"
      }
    },
    {
      "cell_type": "code",
      "source": [
        "df.loc[df['Vict Descent'] == '-', 'Vict Descent'] = 'X'\n",
        "df.loc[df['Vict Sex'] == '-', 'Vict Sex'] = 'X'"
      ],
      "metadata": {
        "id": "oC_ue6d8IZAV"
      },
      "execution_count": null,
      "outputs": []
    },
    {
      "cell_type": "code",
      "source": [
        "print(f\"Jumlah Missing Vict Sex: {df['Vict Sex'].isna().sum()}\")\n",
        "print(f\"Jumlah Missing Vict Descent: {df['Vict Descent'].isna().sum()}\")\n",
        "\n",
        "print(f\"Jumlah Unknown Vict Sex: {(df['Vict Sex'] == 'X').sum()}\")\n",
        "print(f\"Jumlah Unknown Vict Descent: {(df['Vict Descent'] == 'X').sum()}\")"
      ],
      "metadata": {
        "id": "Xx8X8h1dJEn3"
      },
      "execution_count": null,
      "outputs": []
    },
    {
      "cell_type": "markdown",
      "source": [
        "Karena jumlah data yang hilang masih cukup besar, maka akan dilakukan proses imputasi untuk mengisi nilai yang missing tersebut."
      ],
      "metadata": {
        "id": "etwwkvdvJk7d"
      }
    },
    {
      "cell_type": "markdown",
      "source": [
        "#### Imputasi ( Premis, Vict Sex, Descent )"
      ],
      "metadata": {
        "id": "PAQYoihXJp_z"
      }
    },
    {
      "cell_type": "code",
      "source": [
        "df['DATE OCC'] = pd.to_datetime(df['DATE OCC'], errors='coerce')\n",
        "df['DATE_TIME_OCC'] = pd.to_datetime(\n",
        "        df['DATE OCC'].dt.strftime('%Y-%m-%d') + ' ' +\n",
        "        df['TIME OCC'].astype(str).str.zfill(4),\n",
        "        format='%Y-%m-%d %H%M',\n",
        "        errors='coerce'\n",
        "    )\n",
        "df.drop(columns=['DATE OCC', 'TIME OCC'], inplace=True, errors='ignore')"
      ],
      "metadata": {
        "id": "kPtEByE6LdNz"
      },
      "execution_count": null,
      "outputs": []
    },
    {
      "cell_type": "markdown",
      "source": [
        "Dilakukan penyesuaian format tanggal pada kolom tersebut agar proses imputasi dapat berjalan dengan lancar."
      ],
      "metadata": {
        "id": "qqHe3EJRL84U"
      }
    },
    {
      "cell_type": "code",
      "source": [
        "# Distribusi frekuensi untuk masing-masing kolom\n",
        "vict_sex_dist = df['Vict Sex'].value_counts(dropna=False)\n",
        "vict_descent_dist = df['Vict Descent'].value_counts(dropna=False)\n",
        "premis_desc_dist = df['Premis Desc'].value_counts(dropna=False)\n",
        "\n",
        "print(\"Distribusi Vict Sex:\\n\",vict_sex_dist)\n",
        "print(\"\\nDistribusi Vict Descent:\\n\", vict_descent_dist)\n",
        "print(\"\\nDistribusi Premis Desc:\\n\", premis_desc_dist)"
      ],
      "metadata": {
        "id": "KGB7WgXnJryo"
      },
      "execution_count": null,
      "outputs": []
    },
    {
      "cell_type": "code",
      "source": [
        "print(df.isna().sum()[lambda x: x > 0])"
      ],
      "metadata": {
        "id": "NP-gB6CbJ3VA"
      },
      "execution_count": null,
      "outputs": []
    },
    {
      "cell_type": "markdown",
      "source": [
        "Karena beberapa kolom lain memiliki nilai kosong dan akan dihapus, maka kolom-kolom tersebut dikecualikan terlebih dahulu dari proses imputasi pada kolom Premis Desc, Vict Sex, dan Vict Descent."
      ],
      "metadata": {
        "id": "qmnDfbFhKXp7"
      }
    },
    {
      "cell_type": "code",
      "source": [
        "from sklearn.experimental import enable_iterative_imputer\n",
        "from sklearn.impute import IterativeImputer\n",
        "import pandas as pd\n",
        "import numpy as np\n",
        "\n",
        "exclude_cols = ['Mocodes', 'Premis Cd', 'Weapon Used Cd',\n",
        "                'Crm Cd 1', 'Crm Cd 2', 'Crm Cd 3', 'Crm Cd 4',\n",
        "                'Cross Street', 'LAT', 'LON', 'Date Rptd', 'DATE_TIME_OCC']\n",
        "exclude_cols = [c for c in exclude_cols if c in df.columns]\n",
        "\n",
        "impute_cols = ['Vict Sex', 'Vict Descent', 'Premis Desc']\n",
        "impute_cols = [c for c in impute_cols if c in df.columns]\n",
        "\n",
        "# Hanya ambil kolom yang mau diimputasi dan prediktor\n",
        "use_cols = [c for c in df.columns if c not in exclude_cols]\n",
        "df_sub = df[use_cols].copy()"
      ],
      "metadata": {
        "id": "GWeSrKvZL_E4"
      },
      "execution_count": null,
      "outputs": []
    },
    {
      "cell_type": "code",
      "source": [
        "for col in df_sub.columns:\n",
        "    if df_sub[col].dtype == 'object':\n",
        "        df_sub[col] = df_sub[col].astype('category')\n",
        "    if str(df_sub[col].dtype) == 'category':\n",
        "        df_sub[col] = df_sub[col].cat.codes.replace(-1, np.nan)\n",
        "\n",
        "imputer = IterativeImputer(random_state=42, max_iter=10)\n",
        "df_imputed = pd.DataFrame(imputer.fit_transform(df_sub), columns=df_sub.columns, index=df.index)\n",
        "\n",
        "# bulatkan hasil kategorik ke kode terdekat lalu kembalikan ke kategori asli\n",
        "for col in df_sub.columns:\n",
        "    if df[col].dtype == 'object' or str(df[col].dtype) == 'category':\n",
        "        df_imputed[col] = np.round(df_imputed[col]).astype(int)\n",
        "        cats = df[col].astype('category').cat.categories\n",
        "        df_imputed[col] = pd.Categorical.from_codes(\n",
        "            df_imputed[col].clip(0, len(cats)-1), cats\n",
        "        )\n",
        "\n",
        "# update kolom yang diimputasi\n",
        "for col in impute_cols:\n",
        "    df[col] = df_imputed[col]\n",
        "\n",
        "print(df[impute_cols].isna().sum())"
      ],
      "metadata": {
        "id": "ZBhRxq7TdvaV"
      },
      "execution_count": null,
      "outputs": []
    },
    {
      "cell_type": "code",
      "source": [
        "print(\"\\nHasil imputasi (5 baris pertama):\")\n",
        "print(df[impute_cols].head())\n",
        "\n",
        "print(\"\\nJumlah missing value setelah imputasi:\")\n",
        "print(df[impute_cols].isna().sum())"
      ],
      "metadata": {
        "id": "NIOkD2ljdy5F"
      },
      "execution_count": null,
      "outputs": []
    },
    {
      "cell_type": "markdown",
      "source": [
        "### Rename axis/index"
      ],
      "metadata": {
        "id": "WR44LBz-NaDk"
      }
    },
    {
      "cell_type": "code",
      "source": [
        "df = df.drop(columns=[\n",
        "    'AREA', 'DR_NO', 'Crm Cd', 'Mocodes', 'Premis Cd',\n",
        "    'Weapon Used Cd', 'Status', 'Crm Cd 1', 'Crm Cd 2',\n",
        "    'Crm Cd 3', 'Crm Cd 4'\n",
        "])\n",
        "\n",
        "df.rename(columns={\n",
        "    'Crm Cd Desc': 'Crm',\n",
        "    'Premis Desc': 'Premis',\n",
        "    'Weapon Desc': 'Weapon',\n",
        "    'Status Desc': 'Status'\n",
        "}, inplace=True)\n",
        "\n",
        "df.columns = df.columns.str.strip().str.lower().str.replace(' ', '_')\n",
        "print(\"\\n🧾 Nama kolom setelah transformasi:\")\n",
        "print(df.columns.tolist())"
      ],
      "metadata": {
        "id": "XZXwniYKNcKV"
      },
      "execution_count": null,
      "outputs": []
    },
    {
      "cell_type": "markdown",
      "source": [
        "### Diskritisasi / Binning\n"
      ],
      "metadata": {
        "id": "yknnaYHbNy2u"
      }
    },
    {
      "cell_type": "code",
      "source": [
        "df['vict_age_bin'] = pd.qcut(df['vict_age'], q=4, labels=['Muda', 'Dewasa', 'Paruh Baya', 'Tua'])"
      ],
      "metadata": {
        "id": "VuxytPyvN3Sj"
      },
      "execution_count": null,
      "outputs": []
    },
    {
      "cell_type": "markdown",
      "source": [
        "### Deteksi Outlier & filtering"
      ],
      "metadata": {
        "id": "3HY0I8izNKCd"
      }
    },
    {
      "cell_type": "markdown",
      "source": [
        "#### Numerik"
      ],
      "metadata": {
        "id": "oCNSUiFmmR9c"
      }
    },
    {
      "cell_type": "code",
      "source": [
        "import statsmodels.api as sm\n",
        "\n",
        "sample = df['vict_age'].sample(min(10000, len(df['vict_age'].dropna())), random_state=1)\n",
        "\n",
        "# 🔹 Histogram + KDE\n",
        "plt.figure(figsize=(7,4))\n",
        "sns.histplot(sample, kde=True, bins=30)\n",
        "plt.title(f'Distribusi {'vict_age'} (Sample)')\n",
        "plt.xlabel('vict_age')\n",
        "plt.ylabel('Frekuensi')\n",
        "plt.show()\n",
        "\n",
        "# 🔹 Q-Q Plot\n",
        "plt.figure(figsize=(5,5))\n",
        "sm.qqplot(sample, line='s')\n",
        "plt.title(f'Q-Q Plot {'vict_age'} (Sample)')\n",
        "plt.show()"
      ],
      "metadata": {
        "id": "sVxYjAbUMnxo"
      },
      "execution_count": null,
      "outputs": []
    },
    {
      "cell_type": "code",
      "source": [
        "# 🔹 Uji normalitas menggunakan D’Agostino-Pearson karena data leih dari 5000\n",
        "print(\"\\n=== Uji Normalitas ===\")\n",
        "print(\"D’Agostino-Pearson:\", stats.normaltest(df['vict_age']))"
      ],
      "metadata": {
        "id": "ve9yBIctNPMR"
      },
      "execution_count": null,
      "outputs": []
    },
    {
      "cell_type": "markdown",
      "source": [
        "Nilai p-value-nya 0.0 (sangat kecil), artinya data tidak berdistribusi normal menurut tes D’Agostino-Pearson. Sehingga dilakukan pendeteksian outlier menggunakan IQR pada kolom umur"
      ],
      "metadata": {
        "id": "On33FAoDmWRk"
      }
    },
    {
      "cell_type": "code",
      "source": [
        "Q1 = df['vict_age'].quantile(0.25)\n",
        "Q3 = df['vict_age'].quantile(0.75)\n",
        "IQR = Q3 - Q1\n",
        "\n",
        "lower_bound = Q1 - 1.5 * IQR\n",
        "upper_bound = Q3 + 1.5 * IQR\n",
        "\n",
        "# Kebijakan Filtering\n",
        "outliers = df[(df['vict_age'] < lower_bound) | (df['vict_age'] > upper_bound)]\n",
        "\n",
        "print(f\"Jumlah outlier: {len(outliers)}\")\n",
        "print(outliers[['vict_age']])"
      ],
      "metadata": {
        "id": "zXlp-b_smYOw"
      },
      "execution_count": null,
      "outputs": []
    },
    {
      "cell_type": "markdown",
      "source": [
        "Karena data tersebut secara format dan konteks tampak masuk akal sebagai data kejadian kriminal, maka baris tersebut akan dibiarkan"
      ],
      "metadata": {
        "id": "qX-PBlOomcBt"
      }
    },
    {
      "cell_type": "markdown",
      "source": [
        "#### Kategorik"
      ],
      "metadata": {
        "id": "iaK3N8C3mdvP"
      }
    },
    {
      "cell_type": "code",
      "source": [
        "df['district'] = df['district'].astype('object')\n",
        "df['rpt_dist_no'] = df['rpt_dist_no'].astype('object')\n",
        "df['part_1-2'] = df['part_1-2'].astype('object')\n",
        "df['vict_age_bin'] = df['vict_age_bin'].astype('object')\n",
        "\n",
        "df.info()"
      ],
      "metadata": {
        "id": "8tNtW9rfmfBx"
      },
      "execution_count": null,
      "outputs": []
    },
    {
      "cell_type": "code",
      "source": [
        "cat_cols = df.select_dtypes(include='object').columns.difference(['date_rptd', 'date_time_occ'])\n",
        "\n",
        "for col in cat_cols:\n",
        "    freq = df[col].value_counts(normalize=True)\n",
        "    rare_values = freq[freq < 0.01]  # contoh threshold <1% dianggap langka\n",
        "    print(f\"\\n\\033[1m\\033[92mKolom: {col}\\033[0m\")\n",
        "    print(f\"Nilai langka (<1% frekuensi):\")\n",
        "    print(rare_values)"
      ],
      "metadata": {
        "id": "Pu7LMNkVmgsy"
      },
      "execution_count": null,
      "outputs": []
    },
    {
      "cell_type": "code",
      "source": [
        "df[df['vict_age'] == 120]"
      ],
      "metadata": {
        "id": "BCv5LnK-maL4"
      },
      "execution_count": null,
      "outputs": []
    },
    {
      "cell_type": "markdown",
      "source": [
        "Kategori langka pada data ini tetap dipertahankan karena mereka mengandung informasi penting dan detail spesifik, seperti jenis kejahatan yang jarang terjadi. Menghapus atau menggabungkan kategori-kategori ini bisa menghilangkan insight berharga yang berguna untuk analisis mendalam. Oleh karena itu, kategori langka dibiarkan utuh agar detail tersebut tetap terjaga."
      ],
      "metadata": {
        "id": "ASBVpt4LmjqU"
      }
    },
    {
      "cell_type": "code",
      "source": [
        "df.to_csv(\"Crime_Data_Clean.csv\", index=False)"
      ],
      "metadata": {
        "id": "qO15ybVUUo--"
      },
      "execution_count": null,
      "outputs": []
    }
  ]
}